{
  "nbformat": 4,
  "nbformat_minor": 0,
  "metadata": {
    "colab": {
      "name": "FibonacciTradeLevels.ipynb",
      "provenance": []
    },
    "kernelspec": {
      "name": "python3",
      "display_name": "Python 3"
    }
  },
  "cells": [
    {
      "cell_type": "code",
      "metadata": {
        "id": "3PoJ2-WoQ7_V"
      },
      "source": [
        "##Fibonnacci Retracements Levels\n",
        "## Copyright: Miss Akshi Bhasker\n",
        "# Fibonnaci retracement levels aren't based on any specefic formula. \n",
        "#They simply demaracte the % change levels as a series of fibonacci numbers between any two given maximum and minimum values. \n",
        "#Traders believe these numbers can also be used in the financial markets \n",
        "# to indicate areas of resistance and suppourt\"                                                    \n",
        "#The official Fibonnaci retracement levels are 23.6, 38.2, and 61.8.\n",
        "# These are static prices and don't change unlike Moving Averages\n",
        "# They are used to enter market, demarcate stop loss points or set price targets"
      ],
      "execution_count": 22,
      "outputs": []
    },
    {
      "cell_type": "code",
      "metadata": {
        "id": "ez3alYNDS8A-"
      },
      "source": [
        "import matplotlib.pyplot as plt\n",
        "import pandas as pd\n",
        "import numpy as np\n",
        "from pandas_datareader import data as pdr\n",
        "import fix_yahoo_finance as yf\n",
        "import datetime"
      ],
      "execution_count": 6,
      "outputs": []
    },
    {
      "cell_type": "code",
      "metadata": {
        "id": "p5mLhpVaV9HV"
      },
      "source": [
        " start=datetime.datetime(2019,10,1)"
      ],
      "execution_count": 10,
      "outputs": []
    },
    {
      "cell_type": "code",
      "metadata": {
        "id": "qDea-0XqWI1z"
      },
      "source": [
        "end=datetime.datetime(2020,10,2)"
      ],
      "execution_count": 11,
      "outputs": []
    },
    {
      "cell_type": "code",
      "metadata": {
        "id": "uU7hmEXgWNvh"
      },
      "source": [
        "df=pdr.get_data_yahoo('DASH-USD', start, end)"
      ],
      "execution_count": 14,
      "outputs": []
    },
    {
      "cell_type": "code",
      "metadata": {
        "colab": {
          "base_uri": "https://localhost:8080/",
          "height": 450
        },
        "id": "ZnP6G_GSWWzp",
        "outputId": "6673565c-bacc-4e3c-9cb4-e58e2ead30c3"
      },
      "source": [
        "df"
      ],
      "execution_count": 15,
      "outputs": [
        {
          "output_type": "execute_result",
          "data": {
            "text/html": [
              "<div>\n",
              "<style scoped>\n",
              "    .dataframe tbody tr th:only-of-type {\n",
              "        vertical-align: middle;\n",
              "    }\n",
              "\n",
              "    .dataframe tbody tr th {\n",
              "        vertical-align: top;\n",
              "    }\n",
              "\n",
              "    .dataframe thead th {\n",
              "        text-align: right;\n",
              "    }\n",
              "</style>\n",
              "<table border=\"1\" class=\"dataframe\">\n",
              "  <thead>\n",
              "    <tr style=\"text-align: right;\">\n",
              "      <th></th>\n",
              "      <th>High</th>\n",
              "      <th>Low</th>\n",
              "      <th>Open</th>\n",
              "      <th>Close</th>\n",
              "      <th>Volume</th>\n",
              "      <th>Adj Close</th>\n",
              "    </tr>\n",
              "    <tr>\n",
              "      <th>Date</th>\n",
              "      <th></th>\n",
              "      <th></th>\n",
              "      <th></th>\n",
              "      <th></th>\n",
              "      <th></th>\n",
              "      <th></th>\n",
              "    </tr>\n",
              "  </thead>\n",
              "  <tbody>\n",
              "    <tr>\n",
              "      <th>2019-09-30</th>\n",
              "      <td>72.698898</td>\n",
              "      <td>69.870377</td>\n",
              "      <td>71.062523</td>\n",
              "      <td>70.513084</td>\n",
              "      <td>214628255</td>\n",
              "      <td>70.513084</td>\n",
              "    </tr>\n",
              "    <tr>\n",
              "      <th>2019-10-01</th>\n",
              "      <td>70.871201</td>\n",
              "      <td>69.654869</td>\n",
              "      <td>70.550949</td>\n",
              "      <td>70.858513</td>\n",
              "      <td>164619887</td>\n",
              "      <td>70.858513</td>\n",
              "    </tr>\n",
              "    <tr>\n",
              "      <th>2019-10-02</th>\n",
              "      <td>71.276657</td>\n",
              "      <td>68.926697</td>\n",
              "      <td>70.935982</td>\n",
              "      <td>70.040413</td>\n",
              "      <td>224161131</td>\n",
              "      <td>70.040413</td>\n",
              "    </tr>\n",
              "    <tr>\n",
              "      <th>2019-10-03</th>\n",
              "      <td>71.180946</td>\n",
              "      <td>69.197502</td>\n",
              "      <td>70.048454</td>\n",
              "      <td>70.121887</td>\n",
              "      <td>197176400</td>\n",
              "      <td>70.121887</td>\n",
              "    </tr>\n",
              "    <tr>\n",
              "      <th>2019-10-04</th>\n",
              "      <td>70.770508</td>\n",
              "      <td>68.956261</td>\n",
              "      <td>70.061684</td>\n",
              "      <td>70.592186</td>\n",
              "      <td>190166360</td>\n",
              "      <td>70.592186</td>\n",
              "    </tr>\n",
              "    <tr>\n",
              "      <th>...</th>\n",
              "      <td>...</td>\n",
              "      <td>...</td>\n",
              "      <td>...</td>\n",
              "      <td>...</td>\n",
              "      <td>...</td>\n",
              "      <td>...</td>\n",
              "    </tr>\n",
              "    <tr>\n",
              "      <th>2020-09-28</th>\n",
              "      <td>68.794434</td>\n",
              "      <td>67.040237</td>\n",
              "      <td>67.511406</td>\n",
              "      <td>68.659172</td>\n",
              "      <td>286638249</td>\n",
              "      <td>68.659172</td>\n",
              "    </tr>\n",
              "    <tr>\n",
              "      <th>2020-09-29</th>\n",
              "      <td>69.108841</td>\n",
              "      <td>66.886063</td>\n",
              "      <td>68.596474</td>\n",
              "      <td>69.108841</td>\n",
              "      <td>266434156</td>\n",
              "      <td>69.108841</td>\n",
              "    </tr>\n",
              "    <tr>\n",
              "      <th>2020-09-30</th>\n",
              "      <td>71.087265</td>\n",
              "      <td>67.515182</td>\n",
              "      <td>69.101830</td>\n",
              "      <td>68.120476</td>\n",
              "      <td>322315255</td>\n",
              "      <td>68.120476</td>\n",
              "    </tr>\n",
              "    <tr>\n",
              "      <th>2020-10-01</th>\n",
              "      <td>68.965073</td>\n",
              "      <td>64.662933</td>\n",
              "      <td>68.112686</td>\n",
              "      <td>66.095230</td>\n",
              "      <td>316746525</td>\n",
              "      <td>66.095230</td>\n",
              "    </tr>\n",
              "    <tr>\n",
              "      <th>2020-10-02</th>\n",
              "      <td>66.725700</td>\n",
              "      <td>65.870583</td>\n",
              "      <td>66.190292</td>\n",
              "      <td>65.913849</td>\n",
              "      <td>247684479</td>\n",
              "      <td>65.913849</td>\n",
              "    </tr>\n",
              "  </tbody>\n",
              "</table>\n",
              "<p>369 rows × 6 columns</p>\n",
              "</div>"
            ],
            "text/plain": [
              "                 High        Low       Open      Close     Volume  Adj Close\n",
              "Date                                                                        \n",
              "2019-09-30  72.698898  69.870377  71.062523  70.513084  214628255  70.513084\n",
              "2019-10-01  70.871201  69.654869  70.550949  70.858513  164619887  70.858513\n",
              "2019-10-02  71.276657  68.926697  70.935982  70.040413  224161131  70.040413\n",
              "2019-10-03  71.180946  69.197502  70.048454  70.121887  197176400  70.121887\n",
              "2019-10-04  70.770508  68.956261  70.061684  70.592186  190166360  70.592186\n",
              "...               ...        ...        ...        ...        ...        ...\n",
              "2020-09-28  68.794434  67.040237  67.511406  68.659172  286638249  68.659172\n",
              "2020-09-29  69.108841  66.886063  68.596474  69.108841  266434156  69.108841\n",
              "2020-09-30  71.087265  67.515182  69.101830  68.120476  322315255  68.120476\n",
              "2020-10-01  68.965073  64.662933  68.112686  66.095230  316746525  66.095230\n",
              "2020-10-02  66.725700  65.870583  66.190292  65.913849  247684479  65.913849\n",
              "\n",
              "[369 rows x 6 columns]"
            ]
          },
          "metadata": {
            "tags": []
          },
          "execution_count": 15
        }
      ]
    },
    {
      "cell_type": "code",
      "metadata": {
        "colab": {
          "base_uri": "https://localhost:8080/"
        },
        "id": "z4PZudv-WosI",
        "outputId": "a6bfc2bd-3db3-43d3-835e-96e03ef931ef"
      },
      "source": [
        "#Find the lowest price\n",
        "price_min=df['Low'].min()\n",
        "price_min"
      ],
      "execution_count": 17,
      "outputs": [
        {
          "output_type": "execute_result",
          "data": {
            "text/plain": [
              "34.90693283081055"
            ]
          },
          "metadata": {
            "tags": []
          },
          "execution_count": 17
        }
      ]
    },
    {
      "cell_type": "code",
      "metadata": {
        "colab": {
          "base_uri": "https://localhost:8080/"
        },
        "id": "gyin5cPAav07",
        "outputId": "7d730a2c-d2d4-4cf7-93f3-ff360305d7ba"
      },
      "source": [
        "#Find the highest price\n",
        "price_max=df['High'].max()\n",
        "price_max"
      ],
      "execution_count": 18,
      "outputs": [
        {
          "output_type": "execute_result",
          "data": {
            "text/plain": [
              "140.70220947265625"
            ]
          },
          "metadata": {
            "tags": []
          },
          "execution_count": 18
        }
      ]
    },
    {
      "cell_type": "code",
      "metadata": {
        "colab": {
          "base_uri": "https://localhost:8080/"
        },
        "id": "_QN6af1ta6z4",
        "outputId": "3f52d9e9-1659-4247-fa8a-58ee6ca5fd4a"
      },
      "source": [
        "#Find the difference between max and min as per fibonacci method\n",
        "diff=price_max-price_min\n",
        "diff"
      ],
      "execution_count": 20,
      "outputs": [
        {
          "output_type": "execute_result",
          "data": {
            "text/plain": [
              "105.7952766418457"
            ]
          },
          "metadata": {
            "tags": []
          },
          "execution_count": 20
        }
      ]
    },
    {
      "cell_type": "code",
      "metadata": {
        "id": "pFZulvnjbMxY"
      },
      "source": [
        "#The official fibonacci levels are\n",
        "l1= price_max-0.236*diff\n",
        "l2= price_max-0.382*diff\n",
        "l3= price_max-0.612*diff"
      ],
      "execution_count": 21,
      "outputs": []
    },
    {
      "cell_type": "code",
      "metadata": {
        "colab": {
          "base_uri": "https://localhost:8080/"
        },
        "id": "4SEhyICicMrV",
        "outputId": "ef8737cc-0aa2-4754-f7f0-2617455c96db"
      },
      "source": [
        "#Let's see the level and price\n",
        "print('Level', '', 'Price')\n",
        "print('0','', price_max)\n",
        "print('Level 1', '', l1)\n",
        "print('Level 2', '', l2)\n",
        "print('Level 3', '', l3)\n",
        "print('1', '', price_min)"
      ],
      "execution_count": 23,
      "outputs": [
        {
          "output_type": "stream",
          "text": [
            "Level  Price\n",
            "0  140.70220947265625\n",
            "Level 1  115.73452418518066\n",
            "Level 2  100.2884137954712\n",
            "Level 3  75.95550016784668\n",
            "1  34.90693283081055\n"
          ],
          "name": "stdout"
        }
      ]
    },
    {
      "cell_type": "code",
      "metadata": {
        "colab": {
          "base_uri": "https://localhost:8080/",
          "height": 350
        },
        "id": "Z0M6C-rydppu",
        "outputId": "788d64c7-dd88-4733-b944-30f2796388f5"
      },
      "source": [
        "##Let's make this graph\n",
        "fig, ax=plt.subplots(figsize=(12,5))\n",
        "ax.plot(df['Close'])\n",
        "ax.axhspan(price_min, ymax=1, alpha=0.1, color='yellow')\n",
        "ax.axhspan(l1, alpha=0.2, ymax=1, color='lightblue')\n",
        "ax.axhspan(l2,alpha=0.3, ymax=1,color='orange')\n",
        "ax.axhspan(l3, alpha=0.4, ymax=1,color='green')\n",
        "ax.axhspan(price_max, alpha=0.5,ymax=1, color='pink')\n",
        "plt.xlabel('Time')\n",
        "plt.ylabel('Closing Price')\n",
        "plt.title('Fibonacci Retracement Levels')\n",
        "plt.show()"
      ],
      "execution_count": 44,
      "outputs": [
        {
          "output_type": "display_data",
          "data": {
            "image/png": "[encoded data removed]",
            "text/plain": [
              "<Figure size 864x360 with 1 Axes>"
            ]
          },
          "metadata": {
            "tags": [],
            "needs_background": "light"
          }
        }
      ]
    },
    {
      "cell_type": "code",
      "metadata": {
        "id": "2apdLBgMjjw2"
      },
      "source": [
        ""
      ],
      "execution_count": null,
      "outputs": []
    }
  ]
}