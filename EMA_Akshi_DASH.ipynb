{
  "nbformat": 4,
  "nbformat_minor": 0,
  "metadata": {
    "colab": {
      "name": "EMA_Akshi_DASH",
      "provenance": [],
      "collapsed_sections": []
    },
    "kernelspec": {
      "name": "python3",
      "display_name": "Python 3"
    }
  },
  "cells": [
    {
      "cell_type": "code",
      "metadata": {
        "id": "l9pkzl8Ki8Bo"
      },
      "source": [
        "#Import the necessary libraries\n",
        "import matplotlib.pyplot as plt\n",
        "import pandas as pd\n",
        "import numpy as np\n",
        "from pandas_datareader import data as pdr\n",
        "import fix_yahoo_finance as yf\n",
        "import datetime"
      ],
      "execution_count": 8,
      "outputs": []
    },
    {
      "cell_type": "code",
      "metadata": {
        "id": "JhxCkNWXO7lu"
      },
      "source": [
        "start=datetime.datetime(2019,10,1)"
      ],
      "execution_count": 52,
      "outputs": []
    },
    {
      "cell_type": "code",
      "metadata": {
        "id": "fNXWdWDBO-hj"
      },
      "source": [
        "end=datetime.datetime(2020,10,1)"
      ],
      "execution_count": 53,
      "outputs": []
    },
    {
      "cell_type": "code",
      "metadata": {
        "id": "OzhVWZZ9PAju"
      },
      "source": [
        "dash=pdr.get_data_yahoo('DASH-USD', start, end)"
      ],
      "execution_count": 73,
      "outputs": []
    },
    {
      "cell_type": "code",
      "metadata": {
        "colab": {
          "base_uri": "https://localhost:8080/",
          "height": 436
        },
        "id": "vWuVJFrYPT0d",
        "outputId": "c1698707-3c57-4d51-9225-751ec0b13227"
      },
      "source": [
        "dash"
      ],
      "execution_count": 74,
      "outputs": [
        {
          "output_type": "execute_result",
          "data": {
            "text/html": [
              "<div>\n",
              "<style scoped>\n",
              "    .dataframe tbody tr th:only-of-type {\n",
              "        vertical-align: middle;\n",
              "    }\n",
              "\n",
              "    .dataframe tbody tr th {\n",
              "        vertical-align: top;\n",
              "    }\n",
              "\n",
              "    .dataframe thead th {\n",
              "        text-align: right;\n",
              "    }\n",
              "</style>\n",
              "<table border=\"1\" class=\"dataframe\">\n",
              "  <thead>\n",
              "    <tr style=\"text-align: right;\">\n",
              "      <th></th>\n",
              "      <th>High</th>\n",
              "      <th>Low</th>\n",
              "      <th>Open</th>\n",
              "      <th>Close</th>\n",
              "      <th>Volume</th>\n",
              "      <th>Adj Close</th>\n",
              "    </tr>\n",
              "    <tr>\n",
              "      <th>Date</th>\n",
              "      <th></th>\n",
              "      <th></th>\n",
              "      <th></th>\n",
              "      <th></th>\n",
              "      <th></th>\n",
              "      <th></th>\n",
              "    </tr>\n",
              "  </thead>\n",
              "  <tbody>\n",
              "    <tr>\n",
              "      <th>2019-09-30</th>\n",
              "      <td>72.698898</td>\n",
              "      <td>69.870377</td>\n",
              "      <td>71.062523</td>\n",
              "      <td>70.513084</td>\n",
              "      <td>214628255</td>\n",
              "      <td>70.513084</td>\n",
              "    </tr>\n",
              "    <tr>\n",
              "      <th>2019-10-01</th>\n",
              "      <td>70.871201</td>\n",
              "      <td>69.654869</td>\n",
              "      <td>70.550949</td>\n",
              "      <td>70.858513</td>\n",
              "      <td>164619887</td>\n",
              "      <td>70.858513</td>\n",
              "    </tr>\n",
              "    <tr>\n",
              "      <th>2019-10-02</th>\n",
              "      <td>71.276657</td>\n",
              "      <td>68.926697</td>\n",
              "      <td>70.935982</td>\n",
              "      <td>70.040413</td>\n",
              "      <td>224161131</td>\n",
              "      <td>70.040413</td>\n",
              "    </tr>\n",
              "    <tr>\n",
              "      <th>2019-10-03</th>\n",
              "      <td>71.180946</td>\n",
              "      <td>69.197502</td>\n",
              "      <td>70.048454</td>\n",
              "      <td>70.121887</td>\n",
              "      <td>197176400</td>\n",
              "      <td>70.121887</td>\n",
              "    </tr>\n",
              "    <tr>\n",
              "      <th>2019-10-04</th>\n",
              "      <td>70.770508</td>\n",
              "      <td>68.956261</td>\n",
              "      <td>70.061684</td>\n",
              "      <td>70.592186</td>\n",
              "      <td>190166360</td>\n",
              "      <td>70.592186</td>\n",
              "    </tr>\n",
              "    <tr>\n",
              "      <th>...</th>\n",
              "      <td>...</td>\n",
              "      <td>...</td>\n",
              "      <td>...</td>\n",
              "      <td>...</td>\n",
              "      <td>...</td>\n",
              "      <td>...</td>\n",
              "    </tr>\n",
              "    <tr>\n",
              "      <th>2020-09-27</th>\n",
              "      <td>70.043549</td>\n",
              "      <td>67.516724</td>\n",
              "      <td>68.749100</td>\n",
              "      <td>67.520950</td>\n",
              "      <td>296838686</td>\n",
              "      <td>67.520950</td>\n",
              "    </tr>\n",
              "    <tr>\n",
              "      <th>2020-09-28</th>\n",
              "      <td>68.794434</td>\n",
              "      <td>67.040237</td>\n",
              "      <td>67.511406</td>\n",
              "      <td>68.659172</td>\n",
              "      <td>286638249</td>\n",
              "      <td>68.659172</td>\n",
              "    </tr>\n",
              "    <tr>\n",
              "      <th>2020-09-29</th>\n",
              "      <td>69.108841</td>\n",
              "      <td>66.886063</td>\n",
              "      <td>68.596474</td>\n",
              "      <td>69.108841</td>\n",
              "      <td>266434156</td>\n",
              "      <td>69.108841</td>\n",
              "    </tr>\n",
              "    <tr>\n",
              "      <th>2020-09-30</th>\n",
              "      <td>71.087265</td>\n",
              "      <td>67.515182</td>\n",
              "      <td>69.101830</td>\n",
              "      <td>68.120476</td>\n",
              "      <td>322315255</td>\n",
              "      <td>68.120476</td>\n",
              "    </tr>\n",
              "    <tr>\n",
              "      <th>2020-10-01</th>\n",
              "      <td>68.965073</td>\n",
              "      <td>64.662933</td>\n",
              "      <td>68.112686</td>\n",
              "      <td>66.095230</td>\n",
              "      <td>316746525</td>\n",
              "      <td>66.095230</td>\n",
              "    </tr>\n",
              "  </tbody>\n",
              "</table>\n",
              "<p>368 rows × 6 columns</p>\n",
              "</div>"
            ],
            "text/plain": [
              "                 High        Low       Open      Close     Volume  Adj Close\n",
              "Date                                                                        \n",
              "2019-09-30  72.698898  69.870377  71.062523  70.513084  214628255  70.513084\n",
              "2019-10-01  70.871201  69.654869  70.550949  70.858513  164619887  70.858513\n",
              "2019-10-02  71.276657  68.926697  70.935982  70.040413  224161131  70.040413\n",
              "2019-10-03  71.180946  69.197502  70.048454  70.121887  197176400  70.121887\n",
              "2019-10-04  70.770508  68.956261  70.061684  70.592186  190166360  70.592186\n",
              "...               ...        ...        ...        ...        ...        ...\n",
              "2020-09-27  70.043549  67.516724  68.749100  67.520950  296838686  67.520950\n",
              "2020-09-28  68.794434  67.040237  67.511406  68.659172  286638249  68.659172\n",
              "2020-09-29  69.108841  66.886063  68.596474  69.108841  266434156  69.108841\n",
              "2020-09-30  71.087265  67.515182  69.101830  68.120476  322315255  68.120476\n",
              "2020-10-01  68.965073  64.662933  68.112686  66.095230  316746525  66.095230\n",
              "\n",
              "[368 rows x 6 columns]"
            ]
          },
          "metadata": {
            "tags": []
          },
          "execution_count": 74
        }
      ]
    },
    {
      "cell_type": "code",
      "metadata": {
        "id": "AhTr_yQZk81Z",
        "colab": {
          "base_uri": "https://localhost:8080/",
          "height": 436
        },
        "outputId": "cc00ab8b-db39-4898-a779-4276caef5eaf"
      },
      "source": [
        "Data=pd.DataFrame(data=dash)\n",
        "Data"
      ],
      "execution_count": 75,
      "outputs": [
        {
          "output_type": "execute_result",
          "data": {
            "text/html": [
              "<div>\n",
              "<style scoped>\n",
              "    .dataframe tbody tr th:only-of-type {\n",
              "        vertical-align: middle;\n",
              "    }\n",
              "\n",
              "    .dataframe tbody tr th {\n",
              "        vertical-align: top;\n",
              "    }\n",
              "\n",
              "    .dataframe thead th {\n",
              "        text-align: right;\n",
              "    }\n",
              "</style>\n",
              "<table border=\"1\" class=\"dataframe\">\n",
              "  <thead>\n",
              "    <tr style=\"text-align: right;\">\n",
              "      <th></th>\n",
              "      <th>High</th>\n",
              "      <th>Low</th>\n",
              "      <th>Open</th>\n",
              "      <th>Close</th>\n",
              "      <th>Volume</th>\n",
              "      <th>Adj Close</th>\n",
              "    </tr>\n",
              "    <tr>\n",
              "      <th>Date</th>\n",
              "      <th></th>\n",
              "      <th></th>\n",
              "      <th></th>\n",
              "      <th></th>\n",
              "      <th></th>\n",
              "      <th></th>\n",
              "    </tr>\n",
              "  </thead>\n",
              "  <tbody>\n",
              "    <tr>\n",
              "      <th>2019-09-30</th>\n",
              "      <td>72.698898</td>\n",
              "      <td>69.870377</td>\n",
              "      <td>71.062523</td>\n",
              "      <td>70.513084</td>\n",
              "      <td>214628255</td>\n",
              "      <td>70.513084</td>\n",
              "    </tr>\n",
              "    <tr>\n",
              "      <th>2019-10-01</th>\n",
              "      <td>70.871201</td>\n",
              "      <td>69.654869</td>\n",
              "      <td>70.550949</td>\n",
              "      <td>70.858513</td>\n",
              "      <td>164619887</td>\n",
              "      <td>70.858513</td>\n",
              "    </tr>\n",
              "    <tr>\n",
              "      <th>2019-10-02</th>\n",
              "      <td>71.276657</td>\n",
              "      <td>68.926697</td>\n",
              "      <td>70.935982</td>\n",
              "      <td>70.040413</td>\n",
              "      <td>224161131</td>\n",
              "      <td>70.040413</td>\n",
              "    </tr>\n",
              "    <tr>\n",
              "      <th>2019-10-03</th>\n",
              "      <td>71.180946</td>\n",
              "      <td>69.197502</td>\n",
              "      <td>70.048454</td>\n",
              "      <td>70.121887</td>\n",
              "      <td>197176400</td>\n",
              "      <td>70.121887</td>\n",
              "    </tr>\n",
              "    <tr>\n",
              "      <th>2019-10-04</th>\n",
              "      <td>70.770508</td>\n",
              "      <td>68.956261</td>\n",
              "      <td>70.061684</td>\n",
              "      <td>70.592186</td>\n",
              "      <td>190166360</td>\n",
              "      <td>70.592186</td>\n",
              "    </tr>\n",
              "    <tr>\n",
              "      <th>...</th>\n",
              "      <td>...</td>\n",
              "      <td>...</td>\n",
              "      <td>...</td>\n",
              "      <td>...</td>\n",
              "      <td>...</td>\n",
              "      <td>...</td>\n",
              "    </tr>\n",
              "    <tr>\n",
              "      <th>2020-09-27</th>\n",
              "      <td>70.043549</td>\n",
              "      <td>67.516724</td>\n",
              "      <td>68.749100</td>\n",
              "      <td>67.520950</td>\n",
              "      <td>296838686</td>\n",
              "      <td>67.520950</td>\n",
              "    </tr>\n",
              "    <tr>\n",
              "      <th>2020-09-28</th>\n",
              "      <td>68.794434</td>\n",
              "      <td>67.040237</td>\n",
              "      <td>67.511406</td>\n",
              "      <td>68.659172</td>\n",
              "      <td>286638249</td>\n",
              "      <td>68.659172</td>\n",
              "    </tr>\n",
              "    <tr>\n",
              "      <th>2020-09-29</th>\n",
              "      <td>69.108841</td>\n",
              "      <td>66.886063</td>\n",
              "      <td>68.596474</td>\n",
              "      <td>69.108841</td>\n",
              "      <td>266434156</td>\n",
              "      <td>69.108841</td>\n",
              "    </tr>\n",
              "    <tr>\n",
              "      <th>2020-09-30</th>\n",
              "      <td>71.087265</td>\n",
              "      <td>67.515182</td>\n",
              "      <td>69.101830</td>\n",
              "      <td>68.120476</td>\n",
              "      <td>322315255</td>\n",
              "      <td>68.120476</td>\n",
              "    </tr>\n",
              "    <tr>\n",
              "      <th>2020-10-01</th>\n",
              "      <td>68.965073</td>\n",
              "      <td>64.662933</td>\n",
              "      <td>68.112686</td>\n",
              "      <td>66.095230</td>\n",
              "      <td>316746525</td>\n",
              "      <td>66.095230</td>\n",
              "    </tr>\n",
              "  </tbody>\n",
              "</table>\n",
              "<p>368 rows × 6 columns</p>\n",
              "</div>"
            ],
            "text/plain": [
              "                 High        Low       Open      Close     Volume  Adj Close\n",
              "Date                                                                        \n",
              "2019-09-30  72.698898  69.870377  71.062523  70.513084  214628255  70.513084\n",
              "2019-10-01  70.871201  69.654869  70.550949  70.858513  164619887  70.858513\n",
              "2019-10-02  71.276657  68.926697  70.935982  70.040413  224161131  70.040413\n",
              "2019-10-03  71.180946  69.197502  70.048454  70.121887  197176400  70.121887\n",
              "2019-10-04  70.770508  68.956261  70.061684  70.592186  190166360  70.592186\n",
              "...               ...        ...        ...        ...        ...        ...\n",
              "2020-09-27  70.043549  67.516724  68.749100  67.520950  296838686  67.520950\n",
              "2020-09-28  68.794434  67.040237  67.511406  68.659172  286638249  68.659172\n",
              "2020-09-29  69.108841  66.886063  68.596474  69.108841  266434156  69.108841\n",
              "2020-09-30  71.087265  67.515182  69.101830  68.120476  322315255  68.120476\n",
              "2020-10-01  68.965073  64.662933  68.112686  66.095230  316746525  66.095230\n",
              "\n",
              "[368 rows x 6 columns]"
            ]
          },
          "metadata": {
            "tags": []
          },
          "execution_count": 75
        }
      ]
    },
    {
      "cell_type": "code",
      "metadata": {
        "id": "5H2Lu34JVv7C"
      },
      "source": [
        "DataC=Data['Close']"
      ],
      "execution_count": 76,
      "outputs": []
    },
    {
      "cell_type": "code",
      "metadata": {
        "id": "umlZW-4UV0wI"
      },
      "source": [
        "#Calculate the Simple Moving Averages"
      ],
      "execution_count": 77,
      "outputs": []
    },
    {
      "cell_type": "code",
      "metadata": {
        "id": "O44FAE9klSz5"
      },
      "source": [
        "#Calculate the MAs for 15/30/45/60 minute averages\n",
        "fifteen=DataC.rolling(window=15).mean()\n",
        "thirty=DataC.rolling(window=30).mean()\n",
        "fourtyfive=DataC.rolling(window=45).mean()\n",
        "sixty=DataC.rolling(window=60).mean()"
      ],
      "execution_count": 78,
      "outputs": []
    },
    {
      "cell_type": "code",
      "metadata": {
        "id": "XzC2jzbSrpFR",
        "colab": {
          "base_uri": "https://localhost:8080/",
          "height": 296
        },
        "outputId": "89abb5ee-3507-4cf3-bec0-ba04fbc30fd1"
      },
      "source": [
        "##Plot the moving averages\n",
        "plt.plot(figsize=(10,4))\n",
        "plt.plot(fifteen, label='15min', color='blue' )\n",
        "plt.plot(thirty, label='30min', color='red')\n",
        "plt.plot(fourtyfive,label='45min', color='yellow')\n",
        "plt.plot(sixty,label='60min', color='orange')\n",
        "plt.grid(True)\n",
        "plt.legend(loc='upper left')\n",
        "plt.ylabel('Price')\n",
        "plt.xlabel('Time')\n"
      ],
      "execution_count": 79,
      "outputs": [
        {
          "output_type": "execute_result",
          "data": {
            "text/plain": [
              "Text(0.5, 0, 'Time')"
            ]
          },
          "metadata": {
            "tags": []
          },
          "execution_count": 79
        },
        {
          "output_type": "display_data",
          "data": {
            "image/png": "[encoded data removed]",
            "text/plain": [
              "<Figure size 432x288 with 1 Axes>"
            ]
          },
          "metadata": {
            "tags": [],
            "needs_background": "light"
          }
        }
      ]
    },
    {
      "cell_type": "code",
      "metadata": {
        "id": "y5nmo1n0WszR"
      },
      "source": [
        "#Calculate the Simple EMAs\n",
        "ema15=DataC.ewm(span=15, adjust=False).mean()\n",
        "ema30=DataC.ewm(span=30, adjust=False).mean()\n",
        "ema45=DataC.ewm(span=45,adjust=False).mean()\n",
        "ema60=DataC.ewm(span=60, adjust=False).mean()"
      ],
      "execution_count": 80,
      "outputs": []
    },
    {
      "cell_type": "code",
      "metadata": {
        "colab": {
          "base_uri": "https://localhost:8080/",
          "height": 264
        },
        "id": "M0kcneqKX5nh",
        "outputId": "5cfff2f1-543f-402e-8c37-737ba0cd6b55"
      },
      "source": [
        "#Plot the graphs\n",
        "plt.plot(figsize=(10,4))\n",
        "plt.plot(ema15, label='15 EMA', color='blue')\n",
        "plt.plot(ema30, label='30 EMA', color='red')\n",
        "plt.plot(ema45, label='45 EMA', color='yellow')\n",
        "plt.plot(ema60, label='60 EMA', color='orange')\n",
        "plt.legend(loc='upper left')\n",
        "plt.grid(True)\n",
        "plt.show()"
      ],
      "execution_count": 81,
      "outputs": [
        {
          "output_type": "display_data",
          "data": {
            "image/png": "[encoded data removed]",
            "text/plain": [
              "<Figure size 432x288 with 1 Axes>"
            ]
          },
          "metadata": {
            "tags": [],
            "needs_background": "light"
          }
        }
      ]
    },
    {
      "cell_type": "code",
      "metadata": {
        "id": "r1kthu1-ZVam"
      },
      "source": [
        "##-----####----##----------##---------"
      ],
      "execution_count": 81,
      "outputs": []
    }
  ]
}